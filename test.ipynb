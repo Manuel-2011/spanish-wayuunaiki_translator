{
 "cells": [
  {
   "cell_type": "code",
   "execution_count": 71,
   "metadata": {},
   "outputs": [
    {
     "name": "stdout",
     "output_type": "stream",
     "text": [
      "3814\n"
     ]
    }
   ],
   "source": [
    "# Read the dictionary.txt file. The openAI completion API accepts a maximum of 4097 tokens.\n",
    "import tiktoken\n",
    "\n",
    "with open(\"dictionary.txt\", \"r\") as file:\n",
    "  text = file.read()\n",
    "  tokenizer = tiktoken.encoding_for_model(\"text-davinci-003\")\n",
    "  encoded = tokenizer.encode(text[85855:85855+9000])\n",
    "  print(len(encoded))"
   ]
  },
  {
   "cell_type": "code",
   "execution_count": 72,
   "metadata": {},
   "outputs": [],
   "source": [
    "# Extract the frist 3814 tokens of the ESPAÑOL-WAYUUNAIKI dictionary.\n",
    "shorthened_text = text[85855:85855+9000]"
   ]
  },
  {
   "cell_type": "code",
   "execution_count": 73,
   "metadata": {},
   "outputs": [
    {
     "name": "stdout",
     "output_type": "stream",
     "text": [
      "ESPAÑOL-WAYUUNAIKI\n",
      "NOTAS SOBRE LA GRAMÁTICA\n",
      "El nombre\n",
      "En el español cada nombre es de género masculino o femenino. Los que refieren\n",
      "a varones o animales machos son masculinos. Los que refieren a mujeres yanimales hembras son femeninos. En cuanto a los demás nombres, muchas veceslos que terminan en ason femeninos y los que terminan en otra vocal son\n",
      "masculinos, pero existen excepciones. Por eso, el género de cada nombre se\n",
      "indica en su respectivo artículo en el diccionario. Muchos nombres masculinosque terminan en -o, por ejemplo los nombres de oficios, tienen sus formas\n",
      "femeninas correspondientes que terminan en -a. Para estos, se da primero en el\n",
      "diccionario la forma masculina seguida por la parte final y distinta de la formafemenina.\n",
      "El plural de un nombre se forma con un sufijo. Por lo general, a un nombre que\n",
      "termina en una vocal, se le añade -s. Al que termina en consonante, se le añade\n",
      "-es.\n",
      "El artículoEl artículo va delante de un nombre para anunciar su género y número. Losartículos determinados no se incluyen en el diccionario porque se realizan porsufijos en el wayuunaiki, así que se dan a continuación.\n",
      "Los artículos determinados\n",
      "Singular Plural\n",
      "Masculino el los\n",
      "Femenino la las\n",
      "El adjetivo\n",
      "La mayoría de los adjetivos en español concuerdan con los nombres a los cualesmodifican en género y número. Para estos se da en el diccionario la forma\n",
      "masculina seguida por la parte final de la femenina.\n",
      "El pronombre personal\n",
      "A diferencia de los pronombres en wayuunaiki, hay varias formas de lospronombres en español según su función en la oración. Por eso, los cuatro juegos\n",
      "principales de estas formas, cada uno según su función, se dan a continuación.Es de notar que en español se distingue entre segunda persona familiar ysegunda persona formal, ésta para el tratamiento de respeto y cortesía. Estadistinción no se realiza en wayuunaiki. (No se incluyen aquí las formas de lasegunda persona plural familiar porque no son de uso común en Latinoamérica.)\n",
      "51Los pronombres\n",
      "Persona / número\n",
      "/ géneroSujetoComplementodirectoComplementoindirectoComplementocon preposición\n",
      "1\n",
      "asing. yo me me mí\n",
      "2asing. familiar tú te te ti\n",
      "2asing. m./f.\n",
      "formalusted lo / la le usted\n",
      "3asing. m./f. él / ella lo / la le él / ella\n",
      "1apl. m./f.nosotros /nosotrasnos nosnosotros /nosotras\n",
      "2\n",
      "apl. m./f. ustedes los / las les ustedes\n",
      "3apl. m./f. ellos / ellas los / las les ellos / ellas\n",
      "Los pronombres que sirven de sujeto y los que sirven de complemento directo se\n",
      "dan en el diccionario porque tienen sus equivalentes en wayuunaiki. En cambio,los que sirven de complemento indirecto o de complemento de preposición sólo\n",
      "se encuentran en el cuadro aquí porque sus equivalentes en wayuunaiki se\n",
      "realizan por los prefijos personales en las posposiciones de este idioma. Tampocose dan en el diccionario los adjetivos posesivos y pronombres posesivos, ( p.ej.\n",
      "mi,mío;tu,tuyo;su,suyo ;nuestro ;su,suyo ), porque estos también se\n",
      "realizan en wayuunaiki por los prefijos personales en los nombres. Los\n",
      "pronombres reflexivos ( me,te,se,nos,se) no se dan en el diccionario porque\n",
      "no tienen equivalente en wayuunaiki.\n",
      "El verbo\n",
      "Los verbos en español en este diccionario se incluyen las siguiente clases: elverbo intransitivo, para el cual el sujeto solo realiza una acción ( p.ej.ellos\n",
      "caminan ); el verbo transitivo, para el cual la acción del sujeto recae en el\n",
      "complemento directo ( p.ej.él come carne ); el verbo reflexivo, para el cual la\n",
      "acción del sujeto recae en sí mismo ( p.ej.me baño ); y el verbo impersonal, el\n",
      "cual se usa sin referencia a sujeto alguno ( p.ej.llueve ). Todo verbo también\n",
      "pertenece a uno de tres grupos que se identifican por la terminación delinfinitivo: los que terminan en -ar, los que terminan en -er, y los que terminan\n",
      "en-ir. Cada grupo tiene su serie de sufijos que se le añade a la raíz verbal para\n",
      "indicar la voz, el modo, y el tiempo del verbo además de la persona y el númerodel sujeto del verbo. Se remite al lector a una de las muchas gramáticas delespañol para conocer todos estos sufijos tanto para los verbos regulares comopara los irregulares.\n",
      "52ESPAÑOL-WAYUUNAIKIALFABETO\n",
      "El alfabeto español consta de 26 letras: a, b, c, d, e, f, g, h, i, j, k, l, m, n, ñ, o,\n",
      "p, q, r, s, t, u, v, x, y, z . Cinco de ellas: a, e, i, o, u son vocales, y las demás\n",
      "consonantes.\n",
      "ESTRUCTURA DEL ARTÍCULO ESPAÑOL-WAYUUNAIKI\n",
      "Se da primero el vocablo cabeza de artículo seguido por cualquier variante del\n",
      "mismo que exista. Se indica un vocablo de uso regional con la abreviatura REG.\n",
      "Después se da la abreviatura de la función gramatical del vocablo. A ésta, lesigue la traducción en wayuunaiki que el vocablo tiene en esta función. Si haymás que una traducción más o menos sinónimas, se dan juntas. En cambio, si elvocablo tiene distintos significados, sus respectivas traducciones se indican pornúmeros secuenciales. Las palabras que señalan un contexto específico para elvocablo, se incluyen entre paréntesis delante de la traducción que correspondeal vocablo en ese contexto. Cualquier nota que sirva para aclarar la forma o eluso de un vocablo se da después de la abreviatura gram. La abreviatura V.remite\n",
      "a otro artículo que tenga relación con el presente. Los compuestos y frases bienconocidos aparecen bajo el vocablo cabeza de artículo que constituye suelemento principal.\n",
      "ABREVIATURAS\n",
      "adj. adjetivo\n",
      "adv. adverbio\n",
      "conj. conjunción\n",
      "f. femenino\n",
      "gram. gramática\n",
      "interj. interjección\n",
      "m. masculino\n",
      "n.f. nombre femenino\n",
      "n.m. nombre masculino\n",
      "p.ej. por ejemplo\n",
      "pl. plural\n",
      "prep. preposición\n",
      "pron. pronombre\n",
      "REG. regionalismo\n",
      "sing. singular\n",
      "V. Véase\n",
      "v.impers. verbo impersonal\n",
      "v.intr. verbo intransitivo\n",
      "v.ref. verbo reflexivo\n",
      "v.tr. verbo transitivo\n",
      "53ESPAÑOL-WAYUUNAIKIDICCIONARIO\n",
      "ESPAÑOL-WAYUUNAIKIESPAÑOL-WAYUUNAIKI\n",
      "DICCIONARIO\n",
      "ESPAÑOL-WAYUUNAIKI\n",
      "A-a\n",
      "aprep. 1.amüin, anainmüin. 2.anain. a abajo\n",
      "abajo adv.mmolu'u. (hacia abajo)\n",
      "unapümüin. abandonar\n",
      "abandonar v.tr.oo'ulawaa. abdomen\n",
      "abdomen n.m.ale'e. abertura\n",
      "abertura n.f.o'u1. abierto, -ta\n",
      "abierto, -ta adj.jutataa.\n",
      "abierto\n",
      "abogado, -da\n",
      "abogado, -da n.m., n.f. pütchipü'ü. aborrecer\n",
      "aborrecer v.tr.alerajaa. abrir\n",
      "abrir v.tr.ajutalaa. abuelo, -la\n",
      "abuelo, -la n.m.atuushi, taata.\n",
      "—n.f.oushu, maachon. aburrido, -da\n",
      "aburrido, -da adj.akulajawaa aa'in. acabado, -da\n",
      "acabado, -da adj.kerawaa. acabarse\n",
      "acabarse v.ref. aja'ttaa. V.terminar. accidentarse\n",
      "accidentarse v.ref. eewawaa. acción\n",
      "acción n.f.(mala) aainjala. V.hacer. acechar\n",
      "acechar v.tr.ajayajaa. acecinar\n",
      "acecinar REG.v.tr.(salar la carne y\n",
      "secarla al aire) asüsiinajaa. aceite\n",
      "aceite n.m.seita, (comestible)\n",
      "manteeka. aceptar\n",
      "aceptar v.tr.aapawaa. acerca de\n",
      "acerca de prep. achiki. acercarseacercarse v.ref. arütkawaa, (en el\n",
      "tiemp ooau n meta) alü'ülaa. acomodarse\n",
      "acomodarse v.ref. anaatawaa. acompañante\n",
      "acompañante n.m., n.f. o'uyaajana.\n",
      "V.compañero. aconsejar\n",
      "aconsejar v.tr.achiawaa. acordarse\n",
      "acordarse v.ref. (acordarse de) sotoo\n",
      "aa'in. V.recordar, olvidar. acostar\n",
      "acostar v.tr.(estar acostado, -da)\n",
      "ju'letaa, palastaa.\n",
      "acostarse v.ref. eisalawaa. acuerdo\n",
      "acuerdo n.m.(estar de acuerdo)\n",
      "paa'inwaa, oonowaa amaa. acusar\n",
      "acusar v.tr.aküjaa achikü. adentro\n",
      "adentro adv.(de la casa) paülü'ü.\n",
      "V.dentro. adivinar\n",
      "adivinar v.tr.1.(por medios\n",
      "sobrenaturales) oo'ulakaa.2.(por suposiciones)\n",
      "ashantajaa.\n",
      "adulto, -ta\n",
      "adulto, -ta adj.\n",
      "ataralüichi, -rü. afeitar\n",
      "afeitar v.tr.aüjaa. afilar\n",
      "afilar v.tr.asalajaa. aflojar\n",
      "aflojar v.tr.aawalaa. afuera\n",
      "afuera adv.anooipa'a. agarrar\n",
      "agarrar v.tr.ata'ülaa. agotar\n",
      "agotar v.tr.aja'laje'eraa.\n",
      "agotarse v.ref. aja'lajawaa. agrio, -a\n",
      "agrio, -a adj.jashü'üwaa. agua\n",
      "agua n.f.wüin. (sitio donde hay agua)\n",
      "miiroku. aguaitacamino\n",
      "aguaitacamino REG.n.m.(ave)\n",
      "toolü. aguardiente\n",
      "aguardiente n.m.chirinchi. aguja\n",
      "aguja n.f.wutia. agujero\n",
      "agujero n.m.o'u1.\n",
      "57\n",
      "aguja\n",
      "ahogarse v.ref. (en agua) wüinsiraa. ahogarse ahora\n",
      "ahora adv.joolu'u. (ahora mismo)\n",
      "paala. ahumar\n",
      "ahumar v.tr.akaijaa. aire\n",
      "aire n.m.jouktai. ajeno, -na\n",
      "ajeno, -na adj.naataa. ala\n",
      "alan.f.atüna. (tener alas) katünaa. alabar\n",
      "alabar v.tr.a'waajaa. alacrán\n",
      "alacrán n.m.je'yulu.\n",
      "alacrán\n",
      "alambre\n",
      "alambre n.m.kachueera. alborotar\n",
      "alborotar v.tr.eiwa'ajaa aa'in. alcanzar\n",
      "alcanzar v.tr.asa'wajaa. alcaraván\n",
      "alcaraván n.m.teitei, (dara) kaarai. alegre\n",
      "alegre adj.talataa. alentar\n",
      "alentar v.tr.atütajaa. algodón\n",
      "algodón n.m.maawüi. alimento\n",
      "alimento n.m.eküülü. alistarse\n",
      "alistarse v.ref. yapaa. aliviarse\n",
      "aliviarse v.ref. aawalawaa. allá\n",
      "allá adv.sa'aya, (lejos) cha'aya. allí\n",
      "allíadv.yala. alma\n",
      "alma n.f.aa'in. almohada\n",
      "almohada n.f.ekiipala. áloe\n",
      "áloe, aloe n.m.rülipi. altivo, -va\n",
      "altivo, -va adj.yaletaa aa'in. alto, -ta\n",
      "alto, -ta adj.yaletaa. alumbrar\n",
      "alumbrar v.tr.anakaa. alzar\n",
      "alzar v.tr.ayaleraa. amable\n",
      "amable adj.kamanewaa. amansar\n",
      "amansar v.tr.amaüsijaa. amar\n",
      "amar v.tr.(ser amado, -da por) aiwaa\n",
      "apüla. amargo, -ga\n",
      "amargo, -ga adj.ishii. amarillo, -llaamarillo, -lla adj.mariiyaa. amarrar\n",
      "amarrar v.tr.ejittawaa, (el cinturón)\n",
      "aa'inyajaa. ambos, -bas\n",
      "ambos, -bas adj.pl., pron.pl. piamale. amigo, -ga\n",
      "amigo, -ga n.m., n.f. atünajutü, (para\n",
      "llamar o saludar un hombre a otro)\n",
      "wa'le\n"
     ]
    }
   ],
   "source": [
    "print(shorthened_text)"
   ]
  },
  {
   "cell_type": "code",
   "execution_count": 10,
   "metadata": {},
   "outputs": [],
   "source": [
    "# Add the OpenAI API key.\n",
    "import openai\n",
    "openai.api_key = \"...\""
   ]
  },
  {
   "cell_type": "code",
   "execution_count": 74,
   "metadata": {},
   "outputs": [],
   "source": [
    "# Create a function to translate a text from Spanish to Wayuunaiki.\n",
    "def translate(\n",
    "    model=\"text-davinci-003\",\n",
    "    question=\"Tigre\",\n",
    "    debug=False,\n",
    "    max_tokens=150,\n",
    "    stop_sequence=None\n",
    "):\n",
    "    context = \"Traduce de Español a Wayuunaiki el Texto dado, teniendo en cuenta el siguiente diccionario como contexto:\\n\\n\"+shorthened_text+\"\\n\\n\"\n",
    "\n",
    "    try:\n",
    "        # Create a completions using the question and context\n",
    "        response = openai.Completion.create(\n",
    "            prompt=f\"Contexto: {context}\\n\\n---\\n\\nTexto: {question}\\nTraducción:\",\n",
    "            temperature=0,\n",
    "            max_tokens=max_tokens,\n",
    "            top_p=1,\n",
    "            frequency_penalty=0,\n",
    "            presence_penalty=0,\n",
    "            stop=stop_sequence,\n",
    "            model=model,\n",
    "        )\n",
    "        return response[\"choices\"][0][\"text\"].strip()\n",
    "    except Exception as e:\n",
    "        print(e)\n",
    "        return \"\""
   ]
  },
  {
   "cell_type": "code",
   "execution_count": 75,
   "metadata": {},
   "outputs": [
    {
     "data": {
      "text/plain": [
       "'Atünajutü'"
      ]
     },
     "execution_count": 75,
     "metadata": {},
     "output_type": "execute_result"
    }
   ],
   "source": [
    "translate(question=\"amigo\")"
   ]
  },
  {
   "attachments": {
    "image-2.png": {
     "image/png": "[encoded data removed]"
    },
    "image.png": {
     "image/png": "[encoded data removed]"
    }
   },
   "cell_type": "markdown",
   "metadata": {},
   "source": [
    "![image.png](attachment:image.png)\n",
    "![image.png](attachment:image-2.png)"
   ]
  },
  {
   "cell_type": "code",
   "execution_count": 76,
   "metadata": {},
   "outputs": [
    {
     "data": {
      "text/plain": [
       "\"Piamale wa'le atünajutü.\""
      ]
     },
     "execution_count": 76,
     "metadata": {},
     "output_type": "execute_result"
    }
   ],
   "source": [
    "translate(question=\"ambos saludan a un amigo\")"
   ]
  },
  {
   "cell_type": "code",
   "execution_count": null,
   "metadata": {},
   "outputs": [],
   "source": []
  }
 ],
 "metadata": {
  "kernelspec": {
   "display_name": "env",
   "language": "python",
   "name": "python3"
  },
  "language_info": {
   "codemirror_mode": {
    "name": "ipython",
    "version": 3
   },
   "file_extension": ".py",
   "mimetype": "text/x-python",
   "name": "python",
   "nbconvert_exporter": "python",
   "pygments_lexer": "ipython3",
   "version": "3.10.8"
  },
  "orig_nbformat": 4
 },
 "nbformat": 4,
 "nbformat_minor": 2
}
